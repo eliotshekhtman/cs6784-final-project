{
 "cells": [
  {
   "cell_type": "code",
   "execution_count": 1,
   "id": "8d75460f",
   "metadata": {},
   "outputs": [],
   "source": [
    "import numpy as np\n",
    "import random\n",
    "import matplotlib.pyplot as plt\n",
    "import torch\n",
    "from torch import nn \n",
    "from tqdm import tqdm"
   ]
  },
  {
   "cell_type": "code",
   "execution_count": 2,
   "id": "f1fcd5a2",
   "metadata": {},
   "outputs": [],
   "source": [
    "from utils import *"
   ]
  },
  {
   "cell_type": "code",
   "execution_count": 3,
   "id": "d9a353ba",
   "metadata": {},
   "outputs": [],
   "source": [
    "arms = torch.tensor([[ 0.6667,  0.3333, -0.6667], [-0.2182,  0.8729, -0.4364]]).float()"
   ]
  },
  {
   "cell_type": "code",
   "execution_count": 4,
   "id": "bbfbdd64",
   "metadata": {},
   "outputs": [],
   "source": [
    "bandit = GradientBandit(n_arms=2, context_size=2)\n",
    "non_strat = Agents(n=1000, n_arms=2, context_size=2,\n",
    "                  arms=arms,\n",
    "                  max_reward=0, max_variance=0)"
   ]
  },
  {
   "cell_type": "code",
   "execution_count": 5,
   "id": "999eeffd",
   "metadata": {},
   "outputs": [],
   "source": [
    "def pick_arm(y):\n",
    "    y = np.maximum(0, np.sign(y))\n",
    "    value = 0\n",
    "    for i, v in enumerate(y):\n",
    "        value += v * (2 ** i)\n",
    "    return value\n",
    "\n",
    "def color_picker(v):\n",
    "    colors = ['red', 'green', 'blue', 'orange', 'yellow', 'purple', 'pink', 'black']\n",
    "    return colors[v]\n",
    "\n",
    "def train(model, dataset, learning_rate=1e-5, epochs=10):\n",
    "    optimizer = torch.optim.Adam(model.parameters(), lr=learning_rate)\n",
    "    agent_rewards = dataset.rewards\n",
    "    data_loader = torch.utils.data.DataLoader(dataset, batch_size=1)\n",
    "    \n",
    "    for epoch in range(epochs):\n",
    "        for xs, ys, variances in tqdm(data_loader):\n",
    "            optimizer.zero_grad()\n",
    "            loss = model(x=xs, y=ys, variances=variances, agent_rewards=agent_rewards)\n",
    "            loss.backward()\n",
    "            optimizer.step()\n",
    "        with torch.no_grad():\n",
    "            features = []\n",
    "            predictions = []\n",
    "            labels = []\n",
    "            for xs, ys, variances in tqdm(data_loader):\n",
    "                y_hat = model(x=xs, variances=variances, agent_rewards=agent_rewards)\n",
    "                features += xs.numpy().tolist()\n",
    "                predictions += [pick_arm(pred) for pred in y_hat]\n",
    "                labels += [pick_arm(y) for y in ys]\n",
    "            print('Error:', sum(predictions == labels) / len(labels))\n",
    "            plt.scatter(features[:, 0], features[:, 1], c=[color_picker(v) for v in predictions])\n",
    "            plt.draw()"
   ]
  },
  {
   "cell_type": "code",
   "execution_count": 6,
   "id": "44aa5553",
   "metadata": {},
   "outputs": [
    {
     "name": "stderr",
     "output_type": "stream",
     "text": [
      "  0%|                                                                                         | 0/1000 [00:00<?, ?it/s]\n"
     ]
    },
    {
     "ename": "RuntimeError",
     "evalue": "one of the variables needed for gradient computation has been modified by an inplace operation: [torch.FloatTensor [1, 3]], which is output 0 of SubBackward0, is at version 1; expected version 0 instead. Hint: enable anomaly detection to find the operation that failed to compute its gradient, with torch.autograd.set_detect_anomaly(True).",
     "output_type": "error",
     "traceback": [
      "\u001b[1;31m---------------------------------------------------------------------------\u001b[0m",
      "\u001b[1;31mRuntimeError\u001b[0m                              Traceback (most recent call last)",
      "Input \u001b[1;32mIn [6]\u001b[0m, in \u001b[0;36m<cell line: 1>\u001b[1;34m()\u001b[0m\n\u001b[1;32m----> 1\u001b[0m \u001b[43mtrain\u001b[49m\u001b[43m(\u001b[49m\u001b[43mbandit\u001b[49m\u001b[43m,\u001b[49m\u001b[43m \u001b[49m\u001b[43mnon_strat\u001b[49m\u001b[43m)\u001b[49m\n",
      "Input \u001b[1;32mIn [5]\u001b[0m, in \u001b[0;36mtrain\u001b[1;34m(model, dataset, learning_rate, epochs)\u001b[0m\n\u001b[0;32m     19\u001b[0m     optimizer\u001b[38;5;241m.\u001b[39mzero_grad()\n\u001b[0;32m     20\u001b[0m     loss \u001b[38;5;241m=\u001b[39m model(x\u001b[38;5;241m=\u001b[39mxs, y\u001b[38;5;241m=\u001b[39mys, variances\u001b[38;5;241m=\u001b[39mvariances, agent_rewards\u001b[38;5;241m=\u001b[39magent_rewards)\n\u001b[1;32m---> 21\u001b[0m     \u001b[43mloss\u001b[49m\u001b[38;5;241;43m.\u001b[39;49m\u001b[43mbackward\u001b[49m\u001b[43m(\u001b[49m\u001b[43m)\u001b[49m\n\u001b[0;32m     22\u001b[0m     optimizer\u001b[38;5;241m.\u001b[39mstep()\n\u001b[0;32m     23\u001b[0m \u001b[38;5;28;01mwith\u001b[39;00m torch\u001b[38;5;241m.\u001b[39mno_grad():\n",
      "File \u001b[1;32mC:\\ProgramData\\Anaconda3\\envs\\gs_tf\\lib\\site-packages\\torch\\_tensor.py:363\u001b[0m, in \u001b[0;36mTensor.backward\u001b[1;34m(self, gradient, retain_graph, create_graph, inputs)\u001b[0m\n\u001b[0;32m    354\u001b[0m \u001b[38;5;28;01mif\u001b[39;00m has_torch_function_unary(\u001b[38;5;28mself\u001b[39m):\n\u001b[0;32m    355\u001b[0m     \u001b[38;5;28;01mreturn\u001b[39;00m handle_torch_function(\n\u001b[0;32m    356\u001b[0m         Tensor\u001b[38;5;241m.\u001b[39mbackward,\n\u001b[0;32m    357\u001b[0m         (\u001b[38;5;28mself\u001b[39m,),\n\u001b[1;32m   (...)\u001b[0m\n\u001b[0;32m    361\u001b[0m         create_graph\u001b[38;5;241m=\u001b[39mcreate_graph,\n\u001b[0;32m    362\u001b[0m         inputs\u001b[38;5;241m=\u001b[39minputs)\n\u001b[1;32m--> 363\u001b[0m \u001b[43mtorch\u001b[49m\u001b[38;5;241;43m.\u001b[39;49m\u001b[43mautograd\u001b[49m\u001b[38;5;241;43m.\u001b[39;49m\u001b[43mbackward\u001b[49m\u001b[43m(\u001b[49m\u001b[38;5;28;43mself\u001b[39;49m\u001b[43m,\u001b[49m\u001b[43m \u001b[49m\u001b[43mgradient\u001b[49m\u001b[43m,\u001b[49m\u001b[43m \u001b[49m\u001b[43mretain_graph\u001b[49m\u001b[43m,\u001b[49m\u001b[43m \u001b[49m\u001b[43mcreate_graph\u001b[49m\u001b[43m,\u001b[49m\u001b[43m \u001b[49m\u001b[43minputs\u001b[49m\u001b[38;5;241;43m=\u001b[39;49m\u001b[43minputs\u001b[49m\u001b[43m)\u001b[49m\n",
      "File \u001b[1;32mC:\\ProgramData\\Anaconda3\\envs\\gs_tf\\lib\\site-packages\\torch\\autograd\\__init__.py:173\u001b[0m, in \u001b[0;36mbackward\u001b[1;34m(tensors, grad_tensors, retain_graph, create_graph, grad_variables, inputs)\u001b[0m\n\u001b[0;32m    168\u001b[0m     retain_graph \u001b[38;5;241m=\u001b[39m create_graph\n\u001b[0;32m    170\u001b[0m \u001b[38;5;66;03m# The reason we repeat same the comment below is that\u001b[39;00m\n\u001b[0;32m    171\u001b[0m \u001b[38;5;66;03m# some Python versions print out the first line of a multi-line function\u001b[39;00m\n\u001b[0;32m    172\u001b[0m \u001b[38;5;66;03m# calls in the traceback and some print out the last line\u001b[39;00m\n\u001b[1;32m--> 173\u001b[0m \u001b[43mVariable\u001b[49m\u001b[38;5;241;43m.\u001b[39;49m\u001b[43m_execution_engine\u001b[49m\u001b[38;5;241;43m.\u001b[39;49m\u001b[43mrun_backward\u001b[49m\u001b[43m(\u001b[49m\u001b[43m  \u001b[49m\u001b[38;5;66;43;03m# Calls into the C++ engine to run the backward pass\u001b[39;49;00m\n\u001b[0;32m    174\u001b[0m \u001b[43m    \u001b[49m\u001b[43mtensors\u001b[49m\u001b[43m,\u001b[49m\u001b[43m \u001b[49m\u001b[43mgrad_tensors_\u001b[49m\u001b[43m,\u001b[49m\u001b[43m \u001b[49m\u001b[43mretain_graph\u001b[49m\u001b[43m,\u001b[49m\u001b[43m \u001b[49m\u001b[43mcreate_graph\u001b[49m\u001b[43m,\u001b[49m\u001b[43m \u001b[49m\u001b[43minputs\u001b[49m\u001b[43m,\u001b[49m\n\u001b[0;32m    175\u001b[0m \u001b[43m    \u001b[49m\u001b[43mallow_unreachable\u001b[49m\u001b[38;5;241;43m=\u001b[39;49m\u001b[38;5;28;43;01mTrue\u001b[39;49;00m\u001b[43m,\u001b[49m\u001b[43m \u001b[49m\u001b[43maccumulate_grad\u001b[49m\u001b[38;5;241;43m=\u001b[39;49m\u001b[38;5;28;43;01mTrue\u001b[39;49;00m\u001b[43m)\u001b[49m\n",
      "\u001b[1;31mRuntimeError\u001b[0m: one of the variables needed for gradient computation has been modified by an inplace operation: [torch.FloatTensor [1, 3]], which is output 0 of SubBackward0, is at version 1; expected version 0 instead. Hint: enable anomaly detection to find the operation that failed to compute its gradient, with torch.autograd.set_detect_anomaly(True)."
     ]
    }
   ],
   "source": [
    "train(bandit, non_strat)"
   ]
  },
  {
   "cell_type": "code",
   "execution_count": null,
   "id": "20d9369a",
   "metadata": {},
   "outputs": [],
   "source": [
    "plt.axis('equal')\n",
    "for i in range(len(non_strat)):\n",
    "    x, y, var = non_strat[i]\n",
    "    plt.scatter(x[0], x[1], c='r' if y[0] < 0 and y[1] < 0 else 'g' if y[0] < 0 and y[1] >= 0 else 'b' if y[0] >= 0 and y[1] < 0 else 'y')"
   ]
  },
  {
   "cell_type": "code",
   "execution_count": null,
   "id": "d31f6dcc",
   "metadata": {},
   "outputs": [],
   "source": [
    "plt.axis('equal')\n",
    "x_aug = torch.cat([non_strat.x, torch.ones(len(non_strat.x)).reshape(-1, 1)], 1).float()\n",
    "ys = torch.max(x_aug @ arms.T, dim=-1).indices\n",
    "for i in range(len(non_strat)):\n",
    "    x, y, var = non_strat[i]\n",
    "    plt.scatter(x[0], x[1], c='r' if ys[i] == 0 else 'b')"
   ]
  },
  {
   "cell_type": "code",
   "execution_count": null,
   "id": "20c8b389",
   "metadata": {},
   "outputs": [],
   "source": []
  }
 ],
 "metadata": {
  "kernelspec": {
   "display_name": "Python 3 (ipykernel)",
   "language": "python",
   "name": "python3"
  },
  "language_info": {
   "codemirror_mode": {
    "name": "ipython",
    "version": 3
   },
   "file_extension": ".py",
   "mimetype": "text/x-python",
   "name": "python",
   "nbconvert_exporter": "python",
   "pygments_lexer": "ipython3",
   "version": "3.9.12"
  }
 },
 "nbformat": 4,
 "nbformat_minor": 5
}
