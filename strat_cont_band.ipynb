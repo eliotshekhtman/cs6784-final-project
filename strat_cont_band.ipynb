{
 "cells": [
  {
   "cell_type": "code",
   "execution_count": 1,
   "metadata": {},
   "outputs": [],
   "source": [
    "import numpy as np\n",
    "import torch\n",
    "from torch import nn\n",
    "import random\n",
    "import matplotlib.pyplot as plt\n",
    "from scipy.optimize import dual_annealing\n",
    "from utils import GradientBandit"
   ]
  },
  {
   "cell_type": "code",
   "execution_count": 2,
   "metadata": {},
   "outputs": [],
   "source": [
    "class ConstantReward:\n",
    "    def __init__(self,arms):\n",
    "        reward = np.random.rand(arms)\n",
    "        reward /= np.sum(reward)\n",
    "        self.reward = reward\n",
    "\n",
    "    def get_reward(self,context):\n",
    "        return self.reward"
   ]
  },
  {
   "cell_type": "code",
   "execution_count": 3,
   "metadata": {},
   "outputs": [],
   "source": [
    "class StrategicAgents:\n",
    "    def __init__(self, private_types, dim, delta_radius, reward):\n",
    "        self.private_types = private_types\n",
    "        self.delta_radius = delta_radius\n",
    "        self.t = 0\n",
    "        self.reward = reward\n",
    "        self.dim = dim\n",
    "\n",
    "    def generate_context(self, policy):\n",
    "        priv = self.private_types[self.t]\n",
    "        reward = self.reward.get_reward(priv)\n",
    "        bounds = [(-self.delta_radius, self.delta_radius)] * (self.dim)\n",
    "        def objective(delta):\n",
    "            if np.linalg.norm(delta) > self.delta_radius:\n",
    "                return np.inf\n",
    "            x_prime = np.append((priv+delta),[1])\n",
    "            return -reward[np.argmax(policy@x_prime)]\n",
    "\n",
    "        opt_delt = dual_annealing(objective, bounds)\n",
    "        x_prime = priv + opt_delt.x\n",
    "        self.t += 1\n",
    "        return x_prime, reward[np.argmax(policy@np.append(x_prime,[1]))]\n"
   ]
  },
  {
   "cell_type": "code",
   "execution_count": 20,
   "metadata": {},
   "outputs": [],
   "source": [
    "class NonStrategicAgents:\n",
    "    def __init__(self, private_types, dim, delta_radius, reward):\n",
    "        self.private_types = private_types\n",
    "        self.delta_radius = delta_radius\n",
    "        self.t = 0\n",
    "        self.reward = reward\n",
    "        self.dim = dim\n",
    "\n",
    "    def generate_context(self, policy):\n",
    "        priv = self.private_types[self.t]\n",
    "        reward = self.reward.get_reward(priv)\n",
    "\n",
    "        self.t += 1\n",
    "        return priv, reward[np.argmax(policy@np.append(priv,[1]))]\n"
   ]
  },
  {
   "cell_type": "code",
   "execution_count": 5,
   "metadata": {},
   "outputs": [],
   "source": [
    "# T = 100\n",
    "# ARMS = 4\n",
    "# CONTEXT_DIM = 5\n",
    "# delta_radius = 0.5\n",
    "\n",
    "# private_types = np.random.rand(T,CONTEXT_DIM)\n",
    "# rewards = ConstantReward(ARMS)\n",
    "# strat_agents = StrategicAgents(private_types,CONTEXT_DIM,delta_radius,rewards)\n",
    "# nostrat_agents = NonStrategicAgents(private_types,CONTEXT_DIM,delta_radius,rewards)"
   ]
  },
  {
   "cell_type": "code",
   "execution_count": 6,
   "metadata": {},
   "outputs": [],
   "source": [
    "# policy = np.random.rand(CONTEXT_DIM,ARMS) - 0.5\n",
    "# print(\"policy: {} \".format(policy))\n",
    "# print(\"reward: {} \".format(rewards.get_reward(0)))"
   ]
  },
  {
   "cell_type": "markdown",
   "metadata": {},
   "source": [
    "Sanity check to make sure the strategic agents are performing better than non-strategic agents"
   ]
  },
  {
   "cell_type": "code",
   "execution_count": 7,
   "metadata": {},
   "outputs": [],
   "source": [
    "# total_strat_reward = 0\n",
    "# total_nostrat_reward = 0\n",
    "# for i in range(T):\n",
    "#     xp, strat_reward = strat_agents.generate_context(policy)\n",
    "#     x, nostrat_reward = nostrat_agents.generate_context(policy)\n",
    "#     total_strat_reward += strat_reward\n",
    "#     total_nostrat_reward += nostrat_reward\n",
    "\n",
    "# print(\"strategic reward: {}, non-strategic reward: {}\".format(total_strat_reward,total_nostrat_reward))"
   ]
  },
  {
   "cell_type": "code",
   "execution_count": 8,
   "metadata": {},
   "outputs": [],
   "source": [
    "class ModelReward:\n",
    "    def __init__(self,arms,dim,noise=0.1):\n",
    "        self.theta = torch.rand(arms,dim)\n",
    "        self.noise_scale = noise\n",
    "\n",
    "    def get_reward(self,action,context):\n",
    "        true_reward = action @ self.theta @ torch.t(context)\n",
    "        return true_reward + (torch.rand(1)-0.5) * 2*self.noise_scale"
   ]
  },
  {
   "cell_type": "code",
   "execution_count": 33,
   "metadata": {},
   "outputs": [],
   "source": [
    "class StrategyAwareGradientModel:\n",
    "    def __init__(self,T,est_reward,lr,dim,delta_radius,arms):\n",
    "        self.delta_radius = delta_radius\n",
    "        self.t = 0\n",
    "        self.T = T\n",
    "        self.est_agent_reward = est_reward\n",
    "        self.dim = dim\n",
    "        self.model = GradientBandit(arms,dim)\n",
    "        self.reward_function = ModelReward(arms,dim)\n",
    "        self.opt = torch.optim.SGD(self.model.parameters(), lr=lr, momentum=0.9)\n",
    "        self.criterion = torch.nn.L1Loss()\n",
    "\n",
    "    def get_policy(self):\n",
    "        return self.model.get_hyperplanes()\n",
    "\n",
    "    def observe_reward(self, context):\n",
    "        self.opt.zero_grad()\n",
    "        context = torch.tensor(context).reshape(1,-1).float()\n",
    "        est_agent_rew = torch.tensor(self.est_agent_reward.get_reward(context)).float()\n",
    "        y_hat = self.model.forward(context,est_agent_rew)\n",
    "        # print(y_hat)\n",
    "        reward = self.reward_function.get_reward(y_hat,context)\n",
    "        loss = self.criterion(reward,torch.zeros(1))\n",
    "        loss.backward()\n",
    "        self.opt.step()\n",
    "        return reward"
   ]
  },
  {
   "cell_type": "code",
   "execution_count": 34,
   "metadata": {},
   "outputs": [],
   "source": [
    "torch.autograd.set_detect_anomaly(True)\n",
    "T = 100\n",
    "ARMS = 3\n",
    "CONTEXT_DIM = 4\n",
    "DELTA = 0.25\n",
    "lr = 0.1\n",
    "\n",
    "private_types = np.random.rand(T,CONTEXT_DIM)\n",
    "agent_rewards = ConstantReward(ARMS)\n",
    "strat_agents = StrategicAgents(private_types,CONTEXT_DIM,DELTA,agent_rewards)\n",
    "nostrat_agents = NonStrategicAgents(private_types,CONTEXT_DIM,DELTA,agent_rewards)\n",
    "model = StrategyAwareGradientModel(T,agent_rewards,lr,CONTEXT_DIM,DELTA,ARMS)\n",
    "total_strat_reward = 0\n",
    "total_nostrat_reward = 0\n",
    "model_rewards = []\n",
    "for i in range(T):\n",
    "    policy = model.get_policy().detach().numpy() #.T[:-1]\n",
    "    #print(policy.shape)\n",
    "    # xp, strat_reward = strat_agents.generate_context(policy)\n",
    "    # total_strat_reward += strat_reward\n",
    "    x, nostrat_reward = nostrat_agents.generate_context(policy)\n",
    "    # total_nostrat_reward += nostrat_reward\n",
    "    r = model.observe_reward(x)\n",
    "    model_rewards.append(r)"
   ]
  },
  {
   "cell_type": "code",
   "execution_count": 18,
   "metadata": {},
   "outputs": [
    {
     "data": {
      "image/png": "[encoded data removed]",
      "text/plain": [
       "<Figure size 432x288 with 1 Axes>"
      ]
     },
     "metadata": {
      "needs_background": "light"
     },
     "output_type": "display_data"
    }
   ],
   "source": [
    "ys = [x.detach().numpy().item() for x in model_rewards]\n",
    "plt.scatter(range(T), ys)\n",
    "plt.show()"
   ]
  },
  {
   "cell_type": "code",
   "execution_count": 35,
   "metadata": {},
   "outputs": [
    {
     "data": {
      "image/png": "[encoded data removed]",
      "text/plain": [
       "<Figure size 432x288 with 1 Axes>"
      ]
     },
     "metadata": {
      "needs_background": "light"
     },
     "output_type": "display_data"
    }
   ],
   "source": [
    "ys = [x.detach().numpy().item() for x in model_rewards]\n",
    "plt.scatter(range(T), ys)\n",
    "plt.show()"
   ]
  }
 ],
 "metadata": {
  "kernelspec": {
   "display_name": "Python 3.10.8 ('pytorch')",
   "language": "python",
   "name": "python3"
  },
  "language_info": {
   "codemirror_mode": {
    "name": "ipython",
    "version": 3
   },
   "file_extension": ".py",
   "mimetype": "text/x-python",
   "name": "python",
   "nbconvert_exporter": "python",
   "pygments_lexer": "ipython3",
   "version": "3.10.8"
  },
  "orig_nbformat": 4,
  "vscode": {
   "interpreter": {
    "hash": "12e07b149c03f77d4bac3a4791c0a52eb40c19a4b80558fffc7bbb9c81e36b37"
   }
  }
 },
 "nbformat": 4,
 "nbformat_minor": 2
}
