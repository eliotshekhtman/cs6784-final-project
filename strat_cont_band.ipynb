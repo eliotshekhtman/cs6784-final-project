{
 "cells": [
  {
   "cell_type": "code",
   "execution_count": 1,
   "metadata": {},
   "outputs": [],
   "source": [
    "import numpy as np\n",
    "import torch\n",
    "from torch import nn\n",
    "import random\n",
    "import matplotlib.pyplot as plt\n",
    "from scipy.optimize import dual_annealing\n",
    "from utils import GradientBandit, GradientBanditNoStrat"
   ]
  },
  {
   "cell_type": "code",
   "execution_count": 2,
   "metadata": {},
   "outputs": [],
   "source": [
    "class ConstantReward:\n",
    "    def __init__(self,arms):\n",
    "        reward = np.random.rand(arms)\n",
    "        reward /= np.sum(reward)\n",
    "        self.reward = reward\n",
    "\n",
    "    def get_reward(self,context):\n",
    "        return self.reward"
   ]
  },
  {
   "cell_type": "code",
   "execution_count": 3,
   "metadata": {},
   "outputs": [],
   "source": [
    "class StrategicAgents:\n",
    "    def __init__(self, dim, delta_radius, reward):\n",
    "        self.delta_radius = delta_radius\n",
    "        self.reward = reward\n",
    "        self.dim = dim\n",
    "\n",
    "    def generate_context(self, policy, priv):\n",
    "        reward = self.reward.get_reward(priv)\n",
    "        bounds = [(-self.delta_radius, self.delta_radius)] * (self.dim)\n",
    "        def objective(delta):\n",
    "            if np.linalg.norm(delta) > self.delta_radius:\n",
    "                return np.inf\n",
    "            #x_prime = np.append((priv+delta),[1])\n",
    "            x_prime = priv+delta\n",
    "            return -reward[np.argmax(policy@x_prime)]\n",
    "\n",
    "        opt_delt = dual_annealing(objective, bounds)\n",
    "        x_prime = priv + opt_delt.x\n",
    "\n",
    "        return x_prime, reward[np.argmax(policy@x_prime)]\n",
    "        #return x_prime, reward[np.argmax(policy@np.append(x_prime,[1]))]\n"
   ]
  },
  {
   "cell_type": "code",
   "execution_count": 4,
   "metadata": {},
   "outputs": [],
   "source": [
    "class ImperfectStrategicAgents:\n",
    "    def __init__(self, dim, delta_radius, reward, policy_noise):\n",
    "        self.delta_radius = delta_radius\n",
    "        self.reward = reward\n",
    "        self.dim = dim\n",
    "        self.policy_noise = policy_noise\n",
    "\n",
    "    def generate_context(self, policy, priv):\n",
    "        imp_policy = policy + self.policy_noise*(np.random.random(policy.shape)-0.5)\n",
    "        reward = self.reward.get_reward(priv)\n",
    "        bounds = [(-self.delta_radius, self.delta_radius)] * (self.dim)\n",
    "        def objective(delta):\n",
    "            if np.linalg.norm(delta) > self.delta_radius:\n",
    "                return np.inf\n",
    "            #x_prime = np.append((priv+delta),[1])\n",
    "            x_prime = priv+delta\n",
    "            return -reward[np.argmax(imp_policy@x_prime)]\n",
    "\n",
    "        opt_delt = dual_annealing(objective, bounds)\n",
    "        x_prime = priv + opt_delt.x\n",
    "\n",
    "        return x_prime, reward[np.argmax(policy@x_prime)]\n",
    "        #return x_prime, reward[np.argmax(policy@np.append(x_prime,[1]))]\n"
   ]
  },
  {
   "cell_type": "code",
   "execution_count": 5,
   "metadata": {},
   "outputs": [],
   "source": [
    "class NonStrategicAgents:\n",
    "    def __init__(self,  dim, delta_radius, reward):\n",
    "        self.delta_radius = delta_radius\n",
    "        self.reward = reward\n",
    "        self.dim = dim\n",
    "\n",
    "    def generate_context(self, policy, priv):\n",
    "        reward = self.reward.get_reward(priv)\n",
    "\n",
    "        return priv, reward[np.argmax(policy@priv)]\n",
    "        #return priv, reward[np.argmax(policy@np.append(priv,[1]))]\n"
   ]
  },
  {
   "cell_type": "code",
   "execution_count": 6,
   "metadata": {},
   "outputs": [],
   "source": [
    "# T = 100\n",
    "# ARMS = 4\n",
    "# CONTEXT_DIM = 5\n",
    "# delta_radius = 0.5\n",
    "\n",
    "# private_types = np.random.rand(T,CONTEXT_DIM)\n",
    "# rewards = ConstantReward(ARMS)\n",
    "# strat_agents = StrategicAgents(private_types,CONTEXT_DIM,delta_radius,rewards)\n",
    "# nostrat_agents = NonStrategicAgents(private_types,CONTEXT_DIM,delta_radius,rewards)"
   ]
  },
  {
   "cell_type": "code",
   "execution_count": 7,
   "metadata": {},
   "outputs": [],
   "source": [
    "# policy = np.random.rand(CONTEXT_DIM,ARMS) - 0.5\n",
    "# print(\"policy: {} \".format(policy))\n",
    "# print(\"reward: {} \".format(rewards.get_reward(0)))"
   ]
  },
  {
   "cell_type": "markdown",
   "metadata": {},
   "source": [
    "Sanity check to make sure the strategic agents are performing better than non-strategic agents"
   ]
  },
  {
   "cell_type": "code",
   "execution_count": 8,
   "metadata": {},
   "outputs": [],
   "source": [
    "# total_strat_reward = 0\n",
    "# total_nostrat_reward = 0\n",
    "# for i in range(T):\n",
    "#     xp, strat_reward = strat_agents.generate_context(policy)\n",
    "#     x, nostrat_reward = nostrat_agents.generate_context(policy)\n",
    "#     total_strat_reward += strat_reward\n",
    "#     total_nostrat_reward += nostrat_reward\n",
    "\n",
    "# print(\"strategic reward: {}, non-strategic reward: {}\".format(total_strat_reward,total_nostrat_reward))"
   ]
  },
  {
   "cell_type": "code",
   "execution_count": 9,
   "metadata": {},
   "outputs": [],
   "source": [
    "class ModelReward:\n",
    "    def __init__(self,arms,dim,noise=0.01):\n",
    "        self.theta = np.random.rand(arms,dim)\n",
    "        self.noise_scale = noise\n",
    "\n",
    "    def get_reward(self,action,context):\n",
    "        true_reward = action @ self.theta @ context\n",
    "        return true_reward + (np.random.rand(1)-0.5) * 2*self.noise_scale"
   ]
  },
  {
   "cell_type": "code",
   "execution_count": 10,
   "metadata": {},
   "outputs": [],
   "source": [
    "class StrategyAwareGradientModel:\n",
    "    def __init__(self,T,est_reward,lr,dim,delta_radius,arms,reward_func):\n",
    "        self.delta_radius = delta_radius\n",
    "        self.t = 0\n",
    "        self.T = T\n",
    "        self.est_agent_reward = est_reward\n",
    "        self.dim = dim\n",
    "        self.model = GradientBandit(arms,dim,bias=False)\n",
    "        self.reward_function = reward_func\n",
    "        self.opt = torch.optim.SGD(self.model.parameters(), lr=lr, momentum=0.9)\n",
    "        self.criterion = torch.nn.L1Loss()\n",
    "\n",
    "    def get_policy(self):\n",
    "        return self.model.get_hyperplanes()\n",
    "\n",
    "    def observe_reward(self, context):\n",
    "        self.opt.zero_grad()\n",
    "        context = torch.tensor(context).reshape(1,-1).float()\n",
    "        est_agent_rew = torch.tensor(self.est_agent_reward.get_reward(context)).float()\n",
    "        y_hat = self.model.forward(context,est_agent_rew)\n",
    "        # print(y_hat)\n",
    "        reward = self.reward_function.get_reward(y_hat,context)\n",
    "        loss = self.criterion(1/reward,torch.zeros(1))\n",
    "        loss.backward()\n",
    "        self.opt.step()\n",
    "        return reward"
   ]
  },
  {
   "cell_type": "code",
   "execution_count": 11,
   "metadata": {},
   "outputs": [],
   "source": [
    "class StrategyUnawareGradientModel:\n",
    "    def __init__(self,T,est_reward,lr,dim,delta_radius,arms,reward_func):\n",
    "        self.delta_radius = delta_radius\n",
    "        self.t = 0\n",
    "        self.T = T\n",
    "        self.est_agent_reward = est_reward\n",
    "        self.dim = dim\n",
    "        self.model = GradientBanditNoStrat(arms,dim,bias=False)\n",
    "        self.reward_function = reward_func\n",
    "        self.opt = torch.optim.SGD(self.model.parameters(), lr=lr, momentum=0.9)\n",
    "        self.criterion = torch.nn.L1Loss()\n",
    "\n",
    "    def get_policy(self):\n",
    "        return self.model.get_hyperplanes()\n",
    "\n",
    "    def different_(self, x_true, x_observed):\n",
    "        est_agent_rew = self.est_agent_reward.get_reward(None)\n",
    "        y_true = self.model.forward(torch.tensor(x_true).float(),est_agent_rew)\n",
    "        y_obv = self.model.forward(torch.tensor(x_observed).float(),est_agent_rew)\n",
    "        if torch.argmax(y_obv) != torch.argmax(y_true):\n",
    "            better = est_agent_rew[torch.argmax(y_obv)] > est_agent_rew[torch.argmax(y_true)]\n",
    "            return True, better\n",
    "        else:\n",
    "            return False, False\n",
    "\n",
    "    def observe_reward(self, context):\n",
    "        self.opt.zero_grad()\n",
    "        context = torch.tensor(context).reshape(1,-1).float()\n",
    "        est_agent_rew = torch.tensor(self.est_agent_reward.get_reward(context)).float()\n",
    "        y_hat = self.model.forward(context,est_agent_rew)\n",
    "        reward = self.reward_function.get_reward(y_hat,context)\n",
    "        loss = self.criterion(1/reward,torch.zeros(1))\n",
    "        loss.backward()\n",
    "        self.opt.step()\n",
    "        return reward"
   ]
  },
  {
   "cell_type": "code",
   "execution_count": 60,
   "metadata": {},
   "outputs": [],
   "source": [
    "class StrategyUnawareModel:\n",
    "    def __init__(self,T,est_reward,lr,dim,delta_radius,arms,reward_func):\n",
    "        self.delta_radius = delta_radius\n",
    "        self.t = 0\n",
    "        self.T = T\n",
    "        self.est_agent_reward = est_reward\n",
    "        self.dim = dim\n",
    "        self.policy= np.random.rand(arms,dim)\n",
    "        self.reward_function = reward_func\n",
    "        self.committed = False\n",
    "        self.arms = arms\n",
    "        rewards = [ [] for i in range(self.arms)]\n",
    "        contexts = [ [] for i in range(self.arms)]\n",
    "        for arm in range(arms):\n",
    "            rewards[arm] = []\n",
    "            contexts[arm] = []\n",
    "        \n",
    "        self.reward_data = rewards\n",
    "        self.context_data = contexts\n",
    "\n",
    "    def refresh_policy(self):\n",
    "        self.policy= np.random.rand(self.arms,self.dim)        \n",
    "\n",
    "    def get_policy(self):\n",
    "        return self.policy\n",
    "\n",
    "    def committ(self):\n",
    "        theta = np.zeros((self.arms,self.dim))\n",
    "        for arm in range(self.arms):\n",
    "            xs = np.asarray(self.context_data[arm])\n",
    "            ys = np.asarray(self.reward_data[arm])\n",
    "            \n",
    "            est_theta = np.linalg.lstsq(xs,ys,rcond=None)[0]\n",
    "            theta[arm,:] = est_theta.flatten()\n",
    "\n",
    "        self.policy = theta\n",
    "\n",
    "    def different_(self, x_true, x_observed):\n",
    "        est_agent_rew = self.est_agent_reward.get_reward(None)\n",
    "        y_true = self.policy@x_true\n",
    "        y_obv = self.policy@x_observed\n",
    "        if np.argmax(y_obv) != np.argmax(y_true):\n",
    "            better = est_agent_rew[np.argmax(y_obv)] > est_agent_rew[np.argmax(y_true)]\n",
    "            return True, better\n",
    "        else:\n",
    "            return False, False\n",
    "\n",
    "    def get_action(self,context):\n",
    "        expected_rewards = self.policy@context\n",
    "        action = np.argmax(expected_rewards)\n",
    "        return action\n",
    "\n",
    "    def observe_reward(self, action, context):\n",
    "        est_agent_rew = self.est_agent_reward.get_reward(context)\n",
    "\n",
    "        action_vector = np.zeros(self.arms)\n",
    "        action_vector[action] += 1\n",
    "        reward = self.reward_function.get_reward(action_vector,context)\n",
    "\n",
    "        self.reward_data[action] += [reward]\n",
    "        self.context_data[action] += [context]\n",
    "\n",
    "        return reward, action"
   ]
  },
  {
   "cell_type": "code",
   "execution_count": 65,
   "metadata": {},
   "outputs": [],
   "source": [
    "T = 1200\n",
    "ARMS = 4\n",
    "CONTEXT_DIM = 5\n",
    "DELTA = 0.25\n",
    "lr = 0.1\n",
    "model_reward_noise = 0.05\n",
    "imperfect_agent_policy_noise = 0.05\n",
    "\n",
    "private_types = np.random.rand(T,CONTEXT_DIM)\n",
    "agent_rewards = ConstantReward(ARMS)\n",
    "model_reward_func = ModelReward(ARMS,CONTEXT_DIM,model_reward_noise)\n",
    "strat_agents = StrategicAgents(CONTEXT_DIM,DELTA,agent_rewards)\n",
    "imperfect_agents = ImperfectStrategicAgents(CONTEXT_DIM,DELTA,agent_rewards,imperfect_agent_policy_noise)\n",
    "nostrat_agents = NonStrategicAgents(CONTEXT_DIM,DELTA,agent_rewards)\n",
    "model = StrategyUnawareModel(T,agent_rewards,lr,CONTEXT_DIM,DELTA,ARMS,model_reward_func)\n",
    "\n",
    "\n",
    "strat_agent_errors = 0\n",
    "impf_agent_error = 0\n",
    "regret = [0]\n",
    "for i in range(T):\n",
    "    if i % 3 == 0:\n",
    "        x,agent_reward = nostrat_agents.generate_context(model.get_policy(), private_types[i])\n",
    "    elif i % 3 == 1:\n",
    "        x, agent_reward = imperfect_agents.generate_context(model.get_policy(), private_types[i])\n",
    "    else:\n",
    "        x,agent_reward = strat_agents.generate_context(model.get_policy(), private_types[i])\n",
    "    \n",
    "    action = model.get_action(x)\n",
    "    reward = model.observe_reward(action,x)\n",
    "    different, better = model.different_(x,private_types[i])\n",
    "    true_act = np.argmax(model_reward_func.theta @ private_types[i])\n",
    "    regret.append(regret[-1] + (true_act != action))\n",
    "    if i < T//2:\n",
    "        model.refresh_policy()\n",
    "    elif i == T//2:\n",
    "        model.committ()\n",
    "\n",
    "    if different:\n",
    "        if i % 3 == 1:\n",
    "            impf_agent_error += 1\n",
    "        else:\n",
    "            strat_agent_errors += 1\n",
    "\n",
    "print(\"strat errors: {} | impf errors: {}\".format(strat_agent_errors,impf_agent_error))\n",
    "    "
   ]
  },
  {
   "cell_type": "code",
   "execution_count": 64,
   "metadata": {},
   "outputs": [
    {
     "data": {
      "image/png": "[encoded data removed]",
      "text/plain": [
       "<Figure size 432x288 with 1 Axes>"
      ]
     },
     "metadata": {
      "needs_background": "light"
     },
     "output_type": "display_data"
    }
   ],
   "source": [
    "x = range(T)\n",
    "plt.scatter(x, regret[1:])\n",
    "plt.show()"
   ]
  },
  {
   "cell_type": "code",
   "execution_count": 59,
   "metadata": {},
   "outputs": [
    {
     "name": "stdout",
     "output_type": "stream",
     "text": [
      "[[-0.00764596 -0.01625134 -0.00687294 -0.01193293  0.05755617]\n",
      " [-0.02455891 -0.00220384 -0.00910528 -0.00386984  0.00795818]\n",
      " [ 0.04274479 -0.10335167  0.04604875  0.03231198  0.04248598]\n",
      " [ 0.09833547 -0.06452297 -0.09266993  0.06593723  0.00417664]]\n"
     ]
    }
   ],
   "source": [
    "print(model.get_policy() - model_reward_func.theta)"
   ]
  },
  {
   "cell_type": "code",
   "execution_count": 56,
   "metadata": {},
   "outputs": [
    {
     "name": "stdout",
     "output_type": "stream",
     "text": [
      "20\n",
      "20\n",
      "strat: 0.3505486060025757 | impf: 0.33543223262133254 | no strat: 0.3435960223000631\n"
     ]
    },
    {
     "data": {
      "image/png": "[encoded data removed]",
      "text/plain": [
       "<Figure size 432x288 with 3 Axes>"
      ]
     },
     "metadata": {
      "needs_background": "light"
     },
     "output_type": "display_data"
    }
   ],
   "source": [
    "# x = range(T//3)\n",
    "# fig, axs = plt.subplots(3, sharex=True, sharey=False)\n",
    "# print(len(x))\n",
    "# print(len([x.item() for x in model_rewards_strat]))\n",
    "# axs[0].scatter(x, [x.item() for x in model_rewards_strat])\n",
    "# axs[1].scatter(x, [x.item() for x in model_rewards_imp])\n",
    "# axs[2].scatter(x, [x.item() for x in model_rewards_ns])\n",
    "# print(\"strat: {} | impf: {} | no strat: {}\".format(sum([3*x.item() for x in model_rewards_strat])/T, sum([3*x.item() for x in model_rewards_imp])/T,sum([3*x.item() for x in model_rewards_ns])/T,))"
   ]
  }
 ],
 "metadata": {
  "kernelspec": {
   "display_name": "Python 3.10.8 ('pytorch')",
   "language": "python",
   "name": "python3"
  },
  "language_info": {
   "codemirror_mode": {
    "name": "ipython",
    "version": 3
   },
   "file_extension": ".py",
   "mimetype": "text/x-python",
   "name": "python",
   "nbconvert_exporter": "python",
   "pygments_lexer": "ipython3",
   "version": "3.10.8"
  },
  "orig_nbformat": 4,
  "vscode": {
   "interpreter": {
    "hash": "12e07b149c03f77d4bac3a4791c0a52eb40c19a4b80558fffc7bbb9c81e36b37"
   }
  }
 },
 "nbformat": 4,
 "nbformat_minor": 2
}
