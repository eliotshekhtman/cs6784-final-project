{
 "cells": [
  {
   "cell_type": "code",
   "execution_count": 2,
   "metadata": {},
   "outputs": [],
   "source": [
    "import numpy as np\n",
    "import torch\n",
    "from torch import nn\n",
    "import random\n",
    "import matplotlib.pyplot as plt\n",
    "from scipy.optimize import dual_annealing\n",
    "from utils import GradientBandit"
   ]
  },
  {
   "cell_type": "code",
   "execution_count": 3,
   "metadata": {},
   "outputs": [],
   "source": [
    "class ConstantReward:\n",
    "    def __init__(self,arms):\n",
    "        reward = np.random.rand(arms)\n",
    "        reward /= np.sum(reward)\n",
    "        self.reward = reward\n",
    "\n",
    "    def get_reward(self,context):\n",
    "        return self.reward"
   ]
  },
  {
   "cell_type": "code",
   "execution_count": 4,
   "metadata": {},
   "outputs": [],
   "source": [
    "class ModelReward:\n",
    "    def __init__(self,arms,dim,noise=0.01):\n",
    "        self.theta = np.random.rand(arms,dim)\n",
    "        self.noise_scale = noise\n",
    "\n",
    "    def get_reward(self,action,context):\n",
    "        true_reward = action @ self.theta @ context\n",
    "        return true_reward + (np.random.rand(1)-0.5) * 2*self.noise_scale\n",
    "\n",
    "    def get_reward_torch(self,action,context):\n",
    "        true_reward = action @ self.theta @ context\n",
    "        return true_reward + (torch.rand(1)-0.5) * 2*self.noise_scale"
   ]
  },
  {
   "cell_type": "code",
   "execution_count": 5,
   "metadata": {},
   "outputs": [],
   "source": [
    "class StrategicAgents:\n",
    "    def __init__(self, dim, delta_radius, reward):\n",
    "        self.delta_radius = delta_radius\n",
    "        self.reward = reward\n",
    "        self.dim = dim\n",
    "\n",
    "    def generate_context(self, policy, priv):\n",
    "        reward = self.reward.get_reward(priv)\n",
    "        bounds = [(-self.delta_radius, self.delta_radius)] * (self.dim)\n",
    "        def objective(delta):\n",
    "            if np.linalg.norm(delta) > self.delta_radius:\n",
    "                return np.inf\n",
    "            #x_prime = np.append((priv+delta),[1])\n",
    "            x_prime = priv+delta\n",
    "            return -reward[np.argmax(policy@x_prime)]\n",
    "\n",
    "        opt_delt = dual_annealing(objective, bounds)\n",
    "        burden = np.linalg.norm(opt_delt.x)\n",
    "        x_prime = priv + opt_delt.x\n",
    "\n",
    "        if np.argmax(policy@x_prime) == np.argmax(policy@priv):\n",
    "            x_prime = priv\n",
    "            burden = 0\n",
    "\n",
    "        return x_prime, burden\n",
    "        #return x_prime, reward[np.argmax(policy@np.append(x_prime,[1]))]\n"
   ]
  },
  {
   "cell_type": "code",
   "execution_count": 6,
   "metadata": {},
   "outputs": [],
   "source": [
    "class ImperfectStrategicAgents:\n",
    "    def __init__(self, dim, delta_radius, reward, policy_noise):\n",
    "        self.delta_radius = delta_radius\n",
    "        self.reward = reward\n",
    "        self.dim = dim\n",
    "        self.policy_noise = policy_noise\n",
    "\n",
    "    def generate_context(self, policy, priv):\n",
    "        imp_policy = policy + self.policy_noise*(np.random.random(policy.shape)-0.5)\n",
    "        reward = self.reward.get_reward(priv)\n",
    "        bounds = [(-self.delta_radius, self.delta_radius)] * (self.dim)\n",
    "        def objective(delta):\n",
    "            if np.linalg.norm(delta) > self.delta_radius:\n",
    "                return np.inf\n",
    "            #x_prime = np.append((priv+delta),[1])\n",
    "            x_prime = priv+delta\n",
    "            return -reward[np.argmax(imp_policy@x_prime)]\n",
    "\n",
    "        opt_delt = dual_annealing(objective, bounds)\n",
    "        burden = np.linalg.norm(opt_delt.x)\n",
    "        x_prime = priv + opt_delt.x\n",
    "\n",
    "        if np.argmax(imp_policy@x_prime) == np.argmax(imp_policy@priv):\n",
    "            x_prime = priv\n",
    "            burden = 0\n",
    "\n",
    "        return x_prime, burden\n",
    "        #return x_prime, reward[np.argmax(policy@np.append(x_prime,[1]))]\n"
   ]
  },
  {
   "cell_type": "code",
   "execution_count": 7,
   "metadata": {},
   "outputs": [],
   "source": [
    "class NonStrategicAgents:\n",
    "    def __init__(self,  dim, delta_radius, reward):\n",
    "        self.delta_radius = delta_radius\n",
    "        self.reward = reward\n",
    "        self.dim = dim\n",
    "\n",
    "    def generate_context(self, policy, priv):\n",
    "        reward = self.reward.get_reward(priv)\n",
    "\n",
    "        return priv, 0\n",
    "        #return priv, reward[np.argmax(policy@np.append(priv,[1]))]\n"
   ]
  },
  {
   "cell_type": "code",
   "execution_count": 8,
   "metadata": {},
   "outputs": [],
   "source": [
    "class StrategyUnawareModel:\n",
    "    def __init__(self,T,est_reward,lr,dim,delta_radius,arms,reward_func):\n",
    "        self.delta_radius = delta_radius\n",
    "        self.t = 0\n",
    "        self.T = T\n",
    "        self.est_agent_reward = est_reward\n",
    "        self.dim = dim\n",
    "        self.policy= np.random.rand(arms,dim)\n",
    "        self.reward_function = reward_func\n",
    "        self.committed = False\n",
    "        self.arms = arms\n",
    "        rewards = [ [] for i in range(self.arms)]\n",
    "        contexts = [ [] for i in range(self.arms)]\n",
    "        for arm in range(arms):\n",
    "            rewards[arm] = []\n",
    "            contexts[arm] = []\n",
    "        \n",
    "        self.reward_data = rewards\n",
    "        self.context_data = contexts\n",
    "\n",
    "    def refresh_policy(self):\n",
    "        self.policy= np.random.rand(self.arms,self.dim)        \n",
    "\n",
    "    def get_policy(self):\n",
    "        return self.policy\n",
    "\n",
    "    def committ(self):\n",
    "        theta = np.zeros((self.arms,self.dim))\n",
    "        for arm in range(self.arms):\n",
    "            xs = np.asarray(self.context_data[arm])\n",
    "            ys = np.asarray(self.reward_data[arm])\n",
    "            \n",
    "            est_theta = np.linalg.lstsq(xs,ys,rcond=None)[0]\n",
    "            theta[arm,:] = est_theta.flatten()\n",
    "\n",
    "        self.policy = theta\n",
    "\n",
    "    def different_(self, x_true, x_observed):\n",
    "        est_agent_rew = self.est_agent_reward.get_reward(None)\n",
    "        y_true = self.policy@x_true\n",
    "        y_obv = self.policy@x_observed\n",
    "        if np.argmax(y_obv) != np.argmax(y_true):\n",
    "            better = est_agent_rew[np.argmax(y_obv)] > est_agent_rew[np.argmax(y_true)]\n",
    "            return True, better\n",
    "        else:\n",
    "            return False, False\n",
    "\n",
    "    def get_action(self,context):\n",
    "        pol = self.policy\n",
    "        expected_rewards = self.policy@context\n",
    "        action = np.argmax(expected_rewards)\n",
    "        \n",
    "        return action\n",
    "\n",
    "    def observe_reward(self, action, context):\n",
    "        est_agent_rew = self.est_agent_reward.get_reward(context)\n",
    "\n",
    "        action_vector = np.zeros(self.arms)\n",
    "        action_vector[action] += 1\n",
    "        reward = self.reward_function.get_reward(action_vector,context)\n",
    "\n",
    "        self.reward_data[action] += [reward]\n",
    "        self.context_data[action] += [context]\n",
    "\n",
    "        return reward, action"
   ]
  },
  {
   "cell_type": "code",
   "execution_count": 18,
   "metadata": {},
   "outputs": [],
   "source": [
    "class SAM:\n",
    "    # Strategy Aware Model\n",
    "    def __init__(self,T,est_reward,lr,dim,delta_radius,arms,reward_func):\n",
    "        self.delta_radius = delta_radius\n",
    "        self.t = 0\n",
    "        self.T = T\n",
    "        self.est_agent_reward = est_reward\n",
    "        self.dim = dim\n",
    "        self.policy= np.random.rand(arms,dim)\n",
    "        self.reward_function = reward_func\n",
    "        self.committed = False\n",
    "        self.arms = arms\n",
    "        self.model = GradientBandit(arms,dim,bias=False)\n",
    "        self.opt = torch.optim.SGD(self.model.parameters(), lr=lr, momentum=0.9)\n",
    "        self.criterion = torch.nn.L1Loss()\n",
    "        \n",
    "        rewards = [ [] for i in range(self.arms)]\n",
    "        contexts = [ [] for i in range(self.arms)]\n",
    "        for arm in range(arms):\n",
    "            rewards[arm] = []\n",
    "            contexts[arm] = []\n",
    "        \n",
    "        self.reward_data = rewards\n",
    "        self.context_data = contexts\n",
    "\n",
    "    def refresh_policy(self):\n",
    "        self.policy= np.random.rand(self.arms,self.dim)        \n",
    "\n",
    "    def get_policy(self):\n",
    "        return self.policy\n",
    "\n",
    "    def committ(self):\n",
    "        theta = np.zeros((self.arms,self.dim))\n",
    "        for arm in range(self.arms):\n",
    "            xs = np.asarray(self.context_data[arm])\n",
    "            ys = np.asarray(self.reward_data[arm])\n",
    "            \n",
    "            est_theta = np.linalg.lstsq(xs,ys,rcond=None)[0]\n",
    "            theta[arm,:] = est_theta.flatten()\n",
    "\n",
    "        self.policy = theta\n",
    "\n",
    "        self.model.classifier.weight = torch.nn.parameter.Parameter(torch.tensor(theta))\n",
    "\n",
    "    def get_action(self,context):\n",
    "        expected_rewards = self.policy@context\n",
    "        action = np.argmax(expected_rewards)\n",
    "\n",
    "        return action\n",
    "\n",
    "    def __explore(self,action,context):\n",
    "        est_agent_rew = self.est_agent_reward.get_reward(context)\n",
    "\n",
    "        action_vector = np.zeros(self.arms)\n",
    "        action_vector[action] += 1\n",
    "        reward = self.reward_function.get_reward(action_vector,context)\n",
    "\n",
    "        self.reward_data[action] += [reward]\n",
    "        self.context_data[action] += [context]\n",
    "\n",
    "        return reward, action\n",
    "\n",
    "    def __exploit(self, action, context):\n",
    "        self.opt.zero_grad()\n",
    "        context = torch.tensor(context).reshape(1,-1).float()\n",
    "        est_agent_rew = torch.tensor(self.est_agent_reward.get_reward(context)).float()\n",
    "        y_hat = self.model.forward(context,est_agent_rew)\n",
    "        reward = self.reward_function.get_reward_torch(action,context)\n",
    "        loss = self.criterion(1/reward,torch.zeros(1))\n",
    "        loss.backward()\n",
    "        self.opt.step()\n",
    "        self.policy = self.model.get_hyperplanes().numpy()\n",
    "        action = int(torch.argmax(y_hat))\n",
    "        return reward, action\n",
    "\n",
    "    def observe_reward(self, action, context):\n",
    "        if self.committed:\n",
    "            return self.__exploit(action,context)\n",
    "        else:\n",
    "            return self.__explore(action,context)\n",
    "\n"
   ]
  },
  {
   "cell_type": "code",
   "execution_count": 33,
   "metadata": {},
   "outputs": [
    {
     "name": "stdout",
     "output_type": "stream",
     "text": [
      "social burden 8.229409623743528\n"
     ]
    }
   ],
   "source": [
    "T = 200\n",
    "ARMS = 4\n",
    "CONTEXT_DIM = 5\n",
    "DELTA = 0.25\n",
    "lr = 0.01\n",
    "model_reward_noise = 0.25\n",
    "imperfect_agent_policy_noise = 0.25\n",
    "\n",
    "private_types = np.random.rand(T,CONTEXT_DIM)\n",
    "agent_rewards = ConstantReward(ARMS)\n",
    "model_reward_func = ModelReward(ARMS,CONTEXT_DIM,model_reward_noise)\n",
    "strat_agents = StrategicAgents(CONTEXT_DIM,DELTA,agent_rewards)\n",
    "imperfect_agents = ImperfectStrategicAgents(CONTEXT_DIM,DELTA,agent_rewards,imperfect_agent_policy_noise)\n",
    "nostrat_agents = NonStrategicAgents(CONTEXT_DIM,DELTA,agent_rewards)\n",
    "model = SAM(T,agent_rewards,lr,CONTEXT_DIM,DELTA,ARMS,model_reward_func)\n",
    "\n",
    "\n",
    "strat_agent_errors = 0\n",
    "impf_agent_error = 0\n",
    "social_buden = 0\n",
    "regret = [0]\n",
    "for i in range(T):\n",
    "\n",
    "    if i % 3 == 0:\n",
    "        x, burden = nostrat_agents.generate_context(model.get_policy(), private_types[i])\n",
    "    elif i % 3 == 1:\n",
    "        x, burden = imperfect_agents.generate_context(model.get_policy(), private_types[i])\n",
    "    else:\n",
    "        x, burden = strat_agents.generate_context(model.get_policy(), private_types[i])\n",
    "        \n",
    "    social_buden += burden\n",
    "    action = model.get_action(x)\n",
    "    reward = model.observe_reward(action,x)\n",
    "    true_act = np.argmax(model_reward_func.theta @ private_types[i])\n",
    "    regret.append(regret[-1] + (true_act != action))\n",
    "    if i < T//2:\n",
    "        model.refresh_policy()\n",
    "    elif i == T//2:\n",
    "        model.committ()\n",
    "\n",
    "print(\"social burden {}\".format(social_buden))\n",
    "    "
   ]
  },
  {
   "cell_type": "code",
   "execution_count": 34,
   "metadata": {},
   "outputs": [
    {
     "data": {
      "image/png": "[encoded data removed]",
      "text/plain": [
       "<Figure size 432x288 with 1 Axes>"
      ]
     },
     "metadata": {
      "needs_background": "light"
     },
     "output_type": "display_data"
    }
   ],
   "source": [
    "x = range(T)\n",
    "plt.scatter(x, regret[1:])\n",
    "plt.show()"
   ]
  },
  {
   "cell_type": "code",
   "execution_count": 35,
   "metadata": {},
   "outputs": [
    {
     "name": "stdout",
     "output_type": "stream",
     "text": [
      "[[-0.20652861  0.13698354 -0.15261868  0.33370804 -0.11660955]\n",
      " [ 0.17521487  0.0855775   0.11097713 -0.09980494 -0.24510647]\n",
      " [-0.13687225  0.02014527  0.01954295  0.13518089 -0.00241973]\n",
      " [-0.07961473  0.14931286 -0.08389652  0.13300023 -0.21767388]]\n"
     ]
    }
   ],
   "source": [
    "print(model.get_policy() - model_reward_func.theta)"
   ]
  },
  {
   "cell_type": "code",
   "execution_count": 36,
   "metadata": {},
   "outputs": [],
   "source": [
    "xs = [0.1*x for x in range(10)]\n",
    "reg_list = []\n",
    "burden_list = []\n",
    "for power in xs:\n",
    "    T = 200\n",
    "    ARMS = 4\n",
    "    CONTEXT_DIM = 5\n",
    "    DELTA = power + 0.0001\n",
    "    lr = 0.01\n",
    "    model_reward_noise = 0.25\n",
    "    imperfect_agent_policy_noise = 0.25\n",
    "\n",
    "    private_types = np.random.rand(T,CONTEXT_DIM)\n",
    "    agent_rewards = ConstantReward(ARMS)\n",
    "    model_reward_func = ModelReward(ARMS,CONTEXT_DIM,model_reward_noise)\n",
    "    strat_agents = StrategicAgents(CONTEXT_DIM,DELTA,agent_rewards)\n",
    "    imperfect_agents = ImperfectStrategicAgents(CONTEXT_DIM,DELTA,agent_rewards,imperfect_agent_policy_noise)\n",
    "    nostrat_agents = NonStrategicAgents(CONTEXT_DIM,DELTA,agent_rewards)\n",
    "    model = SAM(T,agent_rewards,lr,CONTEXT_DIM,DELTA,ARMS,model_reward_func)\n",
    "\n",
    "\n",
    "    strat_agent_errors = 0\n",
    "    impf_agent_error = 0\n",
    "    social_burden = 0\n",
    "    regret = [0]\n",
    "    for i in range(T):\n",
    "        if i % 3 == 0:\n",
    "            x, burden = nostrat_agents.generate_context(model.get_policy(), private_types[i])\n",
    "        elif i % 3 == 1:\n",
    "            x, burden = imperfect_agents.generate_context(model.get_policy(), private_types[i])\n",
    "        else:\n",
    "            x, burden = strat_agents.generate_context(model.get_policy(), private_types[i])\n",
    "        \n",
    "        social_burden += burden\n",
    "        action = model.get_action(x)\n",
    "        reward = model.observe_reward(action,x)\n",
    "        true_act = np.argmax(model_reward_func.theta @ private_types[i])\n",
    "        regret.append(regret[-1] + (true_act != action))\n",
    "        if i < T//2:\n",
    "            model.refresh_policy()\n",
    "        elif i == T//2:\n",
    "            model.committ()\n",
    "\n",
    "        # if different:\n",
    "        #     if i % 3 == 1:\n",
    "        #         impf_agent_error += 1\n",
    "        #     else:\n",
    "        #         strat_agent_errors += 1\n",
    "\n",
    "    burden_list += [social_burden]\n",
    "    reg_list += [regret[-1]]\n",
    "    "
   ]
  },
  {
   "cell_type": "code",
   "execution_count": 37,
   "metadata": {},
   "outputs": [
    {
     "data": {
      "image/png": "[encoded data removed]",
      "text/plain": [
       "<Figure size 432x288 with 1 Axes>"
      ]
     },
     "metadata": {
      "needs_background": "light"
     },
     "output_type": "display_data"
    }
   ],
   "source": [
    "plt.scatter(xs, reg_list)\n",
    "plt.show()"
   ]
  },
  {
   "cell_type": "code",
   "execution_count": 38,
   "metadata": {},
   "outputs": [
    {
     "data": {
      "text/plain": [
       "<function matplotlib.pyplot.show(close=None, block=None)>"
      ]
     },
     "execution_count": 38,
     "metadata": {},
     "output_type": "execute_result"
    },
    {
     "data": {
      "image/png": "[encoded data removed]",
      "text/plain": [
       "<Figure size 432x288 with 1 Axes>"
      ]
     },
     "metadata": {
      "needs_background": "light"
     },
     "output_type": "display_data"
    }
   ],
   "source": [
    "plt.scatter(xs,burden_list)\n",
    "plt.show"
   ]
  }
 ],
 "metadata": {
  "kernelspec": {
   "display_name": "Python 3.10.8 ('pytorch')",
   "language": "python",
   "name": "python3"
  },
  "language_info": {
   "codemirror_mode": {
    "name": "ipython",
    "version": 3
   },
   "file_extension": ".py",
   "mimetype": "text/x-python",
   "name": "python",
   "nbconvert_exporter": "python",
   "pygments_lexer": "ipython3",
   "version": "3.10.8"
  },
  "orig_nbformat": 4,
  "vscode": {
   "interpreter": {
    "hash": "12e07b149c03f77d4bac3a4791c0a52eb40c19a4b80558fffc7bbb9c81e36b37"
   }
  }
 },
 "nbformat": 4,
 "nbformat_minor": 2
}
